{
 "cells": [
  {
   "cell_type": "markdown",
   "metadata": {},
   "source": [
    "## PART 6B: Camera-Projector Feedback Illumination (Example)"
   ]
  },
  {
   "cell_type": "code",
   "execution_count": 1,
   "metadata": {
    "scrolled": true
   },
   "outputs": [
    {
     "name": "stdout",
     "output_type": "stream",
     "text": [
      "Importing libraries...\n",
      "Done!\n",
      "Initialize camera and default settings...\n",
      "Done!\n",
      "Define functions needed to capture images...\n",
      "Done!\n",
      "Generating patterns for projector...\n",
      "Done!\n"
     ]
    },
    {
     "data": {
      "text/plain": [
       "<matplotlib.figure.Figure at 0xaef1eaf0>"
      ]
     },
     "metadata": {},
     "output_type": "display_data"
    },
    {
     "name": "stdout",
     "output_type": "stream",
     "text": [
      "Imported opencv 3.2.0\n",
      "Imported PIL4.0.0\n",
      "Capture new correspondences or load from file\n"
     ]
    },
    {
     "data": {
      "application/vnd.jupyter.widget-view+json": {
       "model_id": "",
       "version_major": 2,
       "version_minor": 0
      },
      "text/plain": [
       "new_correspondences(description=u'Capture new', style=ButtonStyle())"
      ]
     },
     "metadata": {},
     "output_type": "display_data"
    },
    {
     "data": {
      "application/vnd.jupyter.widget-view+json": {
       "model_id": "",
       "version_major": 2,
       "version_minor": 0
      },
      "text/plain": [
       "Output()"
      ]
     },
     "metadata": {},
     "output_type": "display_data"
    },
    {
     "data": {
      "application/vnd.jupyter.widget-view+json": {
       "model_id": "",
       "version_major": 2,
       "version_minor": 0
      },
      "text/plain": [
       "load_correspondences(description=u'Load from file', style=ButtonStyle())"
      ]
     },
     "metadata": {},
     "output_type": "display_data"
    },
    {
     "data": {
      "application/vnd.jupyter.widget-view+json": {
       "model_id": "",
       "version_major": 2,
       "version_minor": 0
      },
      "text/plain": [
       "Output()"
      ]
     },
     "metadata": {},
     "output_type": "display_data"
    },
    {
     "name": "stdout",
     "output_type": "stream",
     "text": [
      "made color and raw transformation matrices\n",
      "Project raw camera image back onto scene:\n"
     ]
    },
    {
     "data": {
      "application/vnd.jupyter.widget-view+json": {
       "model_id": "",
       "version_major": 2,
       "version_minor": 0
      },
      "text/plain": [
       "project_button(description=u'Start (raw)', style=ButtonStyle())"
      ]
     },
     "metadata": {},
     "output_type": "display_data"
    },
    {
     "data": {
      "application/vnd.jupyter.widget-view+json": {
       "model_id": "",
       "version_major": 2,
       "version_minor": 0
      },
      "text/plain": [
       "Output()"
      ]
     },
     "metadata": {},
     "output_type": "display_data"
    },
    {
     "name": "stdout",
     "output_type": "stream",
     "text": [
      "Project color camera image back onto scene:\n"
     ]
    },
    {
     "data": {
      "application/vnd.jupyter.widget-view+json": {
       "model_id": "",
       "version_major": 2,
       "version_minor": 0
      },
      "text/plain": [
       "project_c_button(description=u'Start (color)', style=ButtonStyle())"
      ]
     },
     "metadata": {},
     "output_type": "display_data"
    },
    {
     "data": {
      "application/vnd.jupyter.widget-view+json": {
       "model_id": "",
       "version_major": 2,
       "version_minor": 0
      },
      "text/plain": [
       "Output()"
      ]
     },
     "metadata": {},
     "output_type": "display_data"
    }
   ],
   "source": [
    "## Initialize everything\n",
    "\n",
    "%run part6a_projector-camera-correspondence.ipynb"
   ]
  },
  {
   "cell_type": "code",
   "execution_count": 2,
   "metadata": {
    "scrolled": true
   },
   "outputs": [
    {
     "name": "stdout",
     "output_type": "stream",
     "text": [
      "Perform (naive) feedback illumination to get featureless image\n"
     ]
    },
    {
     "data": {
      "application/vnd.jupyter.widget-view+json": {
       "model_id": "8fbe00fe419647498eca1357cd3fb8be",
       "version_major": 2,
       "version_minor": 0
      },
      "text/plain": [
       "fin_button(description=u'Start', style=ButtonStyle())"
      ]
     },
     "metadata": {},
     "output_type": "display_data"
    },
    {
     "data": {
      "application/vnd.jupyter.widget-view+json": {
       "model_id": "8923b474951f47728d2d3f055f5736e3",
       "version_major": 2,
       "version_minor": 0
      },
      "text/plain": [
       "Output()"
      ]
     },
     "metadata": {},
     "output_type": "display_data"
    }
   ],
   "source": [
    "# (3.a) create grey image using pixel value difference between projector pattern and captured image\n",
    "# attempted to use standard deviation as a metric for success, doesn't really work\n",
    "def feedback_illum_naive():\n",
    "    lightcrafter.set_pattern(20 * numpy.uint16(numpy.ones((360,640))))    \n",
    "    im = get_raw_image()\n",
    "    patt = grey # guess\n",
    "    for i in range(4):\n",
    "        print('round ' + str(i))\n",
    "\n",
    "        # project guess\n",
    "        warp = cv.warpPerspective(patt.astype(numpy.uint8), M, (640,360))\n",
    "        lightcrafter.set_pattern(warp/2)\n",
    "        time.sleep(1)\n",
    "\n",
    "        # get image\n",
    "        im = get_raw_image()\n",
    "        # show img\n",
    "        print('im'); plt.imshow(im); plt.show();\n",
    "\n",
    "        # grey - im\n",
    "        diff = numpy.add(grey, -1*im);\n",
    "\n",
    "        # use diff to come up with new guess\n",
    "        scale = 2 ** i\n",
    "        patt = numpy.add(patt, diff/scale)\n",
    "\n",
    "# Button setup template\n",
    "class fin_button(widgets.Button):\n",
    "    output = widgets.Output()\n",
    "    @output.capture()\n",
    "    def on_button_clicked(b):\n",
    "        clear_output()\n",
    "        feedback_illum_naive()\n",
    "print(\"Perform (naive) feedback illumination to get featureless image\")\n",
    "button1 = fin_button(description=\"Start\")\n",
    "button1.on_click(fin_button.on_button_clicked)\n",
    "display(button1)\n",
    "display(fin_button.output)"
   ]
  },
  {
   "cell_type": "code",
   "execution_count": 3,
   "metadata": {
    "scrolled": true
   },
   "outputs": [
    {
     "name": "stdout",
     "output_type": "stream",
     "text": [
      "Perform feedback illumination to get featureless image\n"
     ]
    },
    {
     "data": {
      "application/vnd.jupyter.widget-view+json": {
       "model_id": "274da01ddf7a4fa0a642b58af420d346",
       "version_major": 2,
       "version_minor": 0
      },
      "text/plain": [
       "fi_button(description=u'Start', style=ButtonStyle())"
      ]
     },
     "metadata": {},
     "output_type": "display_data"
    },
    {
     "data": {
      "application/vnd.jupyter.widget-view+json": {
       "model_id": "16dc0f5a3fdd4c2aa146c768c1dc98fd",
       "version_major": 2,
       "version_minor": 0
      },
      "text/plain": [
       "Output()"
      ]
     },
     "metadata": {},
     "output_type": "display_data"
    }
   ],
   "source": [
    "# (3.b) feedback illumination based on assumption that recorded pixel value b by camera is b=ax+c, \n",
    "# a is the reflectivity (modifies the response recorded by camera of a value from the projector)\n",
    "# x is the value projected from the projector\n",
    "# c is the illumination of the rest of the scene (a baseline to consider as black)\n",
    "# Treat x as our guess to get b=target\n",
    "\n",
    "def feedback_illum():\n",
    "    target = 127 # might need to adjust based on baseline black\n",
    "\n",
    "    # get a baseline value for black\n",
    "    lightcrafter.set_pattern(numpy.zeros((360,640)))\n",
    "    time.sleep(1)\n",
    "    base_black = numpy.average(get_raw_image())\n",
    "    c = numpy.full((200,320), base_black)\n",
    "    print(\"baseline black value=\" + str(base_black))\n",
    "\n",
    "    # start with grey projection as our 'guess'\n",
    "    x = grey/2\n",
    "\n",
    "    # do some number of iterations\n",
    "    for i in range(6):\n",
    "        # cast x in case its type was changed\n",
    "        x = x.astype(numpy.uint8)\n",
    "\n",
    "        # project \n",
    "        lightcrafter.set_pattern(transform_image(x, M))\n",
    "        time.sleep(1)\n",
    "\n",
    "        # image\n",
    "        b = get_raw_image()\n",
    "        print(\"round \"+str(i)+\": captured img\");plt.imshow(b); plt.show()\n",
    "\n",
    "        # reflectivity/modulation image, a=(b-c)/x\n",
    "        # want to find y s.t. target = ay + c, y=(target-c)/a\n",
    "        a = numpy.divide(numpy.add(b, -1*c), numpy.clip(x,1,255))\n",
    "        y = numpy.divide(numpy.add(target, -1*c), numpy.clip(a,1,255))\n",
    "\n",
    "        # update guess\n",
    "        x = y\n",
    "        \n",
    "# Button setup template\n",
    "class fi_button(widgets.Button):\n",
    "    output = widgets.Output()\n",
    "    @output.capture()\n",
    "    def on_button_clicked(b):\n",
    "        clear_output()\n",
    "        feedback_illum()\n",
    "print(\"Perform feedback illumination to get featureless image\")\n",
    "button1 = fi_button(description=\"Start\")\n",
    "button1.on_click(fi_button.on_button_clicked)\n",
    "display(button1)\n",
    "display(fi_button.output)"
   ]
  }
 ],
 "metadata": {
  "kernelspec": {
   "display_name": "Python 2",
   "language": "python",
   "name": "python2"
  },
  "language_info": {
   "codemirror_mode": {
    "name": "ipython",
    "version": 2
   },
   "file_extension": ".py",
   "mimetype": "text/x-python",
   "name": "python",
   "nbconvert_exporter": "python",
   "pygments_lexer": "ipython2",
   "version": "2.7.13"
  }
 },
 "nbformat": 4,
 "nbformat_minor": 2
}
