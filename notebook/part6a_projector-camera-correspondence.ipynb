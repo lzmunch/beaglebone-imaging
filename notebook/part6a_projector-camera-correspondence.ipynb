{
 "cells": [
  {
   "cell_type": "markdown",
   "metadata": {},
   "source": [
    "## PART 6a: Projector-Camera Correspondence"
   ]
  },
  {
   "cell_type": "code",
   "execution_count": 1,
   "metadata": {},
   "outputs": [
    {
     "name": "stdout",
     "output_type": "stream",
     "text": [
      "Importing libraries...\n",
      "Done!\n",
      "Initialize camera and default settings...\n",
      "Done!\n",
      "Define functions needed to capture images...\n",
      "Done!\n",
      "Generating patterns for projector...\n",
      "Done!\n"
     ]
    },
    {
     "data": {
      "text/plain": [
       "<matplotlib.figure.Figure at 0xaeed7190>"
      ]
     },
     "metadata": {},
     "output_type": "display_data"
    },
    {
     "name": "stdout",
     "output_type": "stream",
     "text": [
      "Imported opencv 3.2.0\n",
      "Imported PIL4.0.0\n"
     ]
    }
   ],
   "source": [
    "## Initialize everything\n",
    "\n",
    "%run common.ipynb\n",
    "\n",
    "import cv2 as cv\n",
    "print(\"Imported opencv \" + str(cv.__version__))\n",
    "import PIL\n",
    "print('Imported PIL' + str(PIL.__version__))"
   ]
  },
  {
   "cell_type": "code",
   "execution_count": 2,
   "metadata": {},
   "outputs": [],
   "source": [
    "## Global variables\n",
    "\n",
    "projector_brightness = 255\n",
    "\n",
    "# projector images\n",
    "grey = numpy.full((200,320), 127)\n",
    "black = numpy.ones((200,320)) * 255\n",
    "noise = numpy.random.rand(360,640) * 255;"
   ]
  },
  {
   "cell_type": "code",
   "execution_count": 3,
   "metadata": {},
   "outputs": [],
   "source": [
    "# # Button setup template\n",
    "# class basic_button(widgets.Button):\n",
    "#     output = widgets.Output()\n",
    "#     @output.capture()\n",
    "#     def on_button_clicked(b):\n",
    "#         clear_output()\n",
    "#         print(\"clicked at \" + str(time.time()))\n",
    "# print(\"a button\")\n",
    "# button1 = basic_button(description=\"button\")\n",
    "# button1.on_click(basic_button.on_button_clicked)\n",
    "# display(button1)\n",
    "# display(basic_button.output)"
   ]
  },
  {
   "cell_type": "code",
   "execution_count": 5,
   "metadata": {},
   "outputs": [],
   "source": [
    "## Functions for getting camera-projector correspondences\n",
    "\n",
    "# Get correspondences for rows(pattern_x) and columns(pattern_y)\n",
    "def get_correspondences():\n",
    "    # Create a projection pattern\n",
    "    pattern_x, pattern_y = numpy.meshgrid(numpy.arange(640),numpy.arange(360))\n",
    "    pattern_x = numpy.uint16(pattern_x)\n",
    "    pattern_y = numpy.uint16(pattern_y)\n",
    "    \n",
    "    x_corresp, x_mask, x_proj_img = corresp_helper(pattern_x)\n",
    "    y_corresp, y_mask, y_proj_img = corresp_helper(pattern_y)\n",
    "    \n",
    "    return x_corresp, x_proj_img, y_corresp, y_proj_img\n",
    "\n",
    "# Helper displays and captures graycode pattens for <pattern>\n",
    "def corresp_helper(pattern):\n",
    "    # Convert pattern to to gray codes (see gray code wikipedia page)\n",
    "    # ptn ^ (ptn >> 1)\n",
    "    pattern = numpy.bitwise_xor(pattern,numpy.right_shift(pattern,1))\n",
    "    \n",
    "    # Create empty arrays for correspondence map and projector codes\n",
    "    img = numpy.uint16(numpy.zeros((200,320)))\n",
    "\n",
    "    for itr in numpy.arange(10):\n",
    "        # Extract one bit of gray code based on itr, shift back so it is in the 'ones' place\n",
    "        ptn1 = numpy.right_shift(numpy.bitwise_and(pattern,2**itr),itr);\n",
    "        ptn2 = 1-ptn1;\n",
    "\n",
    "        # Display extracted pattern\n",
    "        lightcrafter.set_pattern(projector_brightness * ptn1)\n",
    "        time.sleep(1)\n",
    "        img1 = numpy.uint16(256*get_raw_image())\n",
    "        # Display complement\n",
    "        lightcrafter.set_pattern(projector_brightness * ptn2)\n",
    "        time.sleep(1)\n",
    "        img2 = numpy.uint16(256*get_raw_image())\n",
    "\n",
    "        # If img1 > img2 then bit was (probably) on\n",
    "        # This means the captured value for pattern  pixel > complement pixel\n",
    "        tmp = numpy.uint16(numpy.greater(img1,img2));\n",
    "        tmp = numpy.left_shift(tmp,itr);\n",
    "        # Concat into img\n",
    "        img = numpy.bitwise_or(img, tmp)\n",
    "\n",
    "    # Convert correspondence and projector codes to binary codes (see gray code wikipedia page)\n",
    "    mask = numpy.right_shift(img,1)          # img stores captured gray codes\n",
    "    proj_mask = numpy.right_shift(pattern,1) # pattern stores displayed gray codes\n",
    "    for itr in numpy.arange(10):\n",
    "        img = numpy.bitwise_xor(img, mask)\n",
    "        mask = numpy.right_shift(mask,1)\n",
    "\n",
    "        pattern = numpy.bitwise_xor(pattern, proj_mask)\n",
    "        proj_mask = numpy.right_shift(proj_mask,1)\n",
    "        \n",
    "    lightcrafter.set_pattern(projector_brightness * numpy.ones((360,640)));\n",
    "    time.sleep(1);\n",
    "    mask = get_raw_image();\n",
    "    \n",
    "    return img, mask, pattern"
   ]
  },
  {
   "cell_type": "code",
   "execution_count": 6,
   "metadata": {},
   "outputs": [
    {
     "name": "stdout",
     "output_type": "stream",
     "text": [
      "Capture new correspondences or load from file\n"
     ]
    },
    {
     "data": {
      "application/vnd.jupyter.widget-view+json": {
       "model_id": "445d1847e84949b9a52d5c3814bbed7d",
       "version_major": 2,
       "version_minor": 0
      },
      "text/plain": [
       "new_correspondences(description=u'Capture new', style=ButtonStyle())"
      ]
     },
     "metadata": {},
     "output_type": "display_data"
    },
    {
     "data": {
      "application/vnd.jupyter.widget-view+json": {
       "model_id": "fe59a7defcca4f4ca437030a90f87092",
       "version_major": 2,
       "version_minor": 0
      },
      "text/plain": [
       "Output()"
      ]
     },
     "metadata": {},
     "output_type": "display_data"
    },
    {
     "data": {
      "application/vnd.jupyter.widget-view+json": {
       "model_id": "2ae3e2dd36fa4d949d85b6640ee394f0",
       "version_major": 2,
       "version_minor": 0
      },
      "text/plain": [
       "load_correspondences(description=u'Load from file', style=ButtonStyle())"
      ]
     },
     "metadata": {},
     "output_type": "display_data"
    },
    {
     "data": {
      "application/vnd.jupyter.widget-view+json": {
       "model_id": "b43a292855324fe89a93fcfdd9cbe46a",
       "version_major": 2,
       "version_minor": 0
      },
      "text/plain": [
       "Output()"
      ]
     },
     "metadata": {},
     "output_type": "display_data"
    }
   ],
   "source": [
    "## Load correspondneces from file or capture new ones\n",
    "\n",
    "def load_from_file():\n",
    "    # Load correspondence and projector code arrays from file\n",
    "    # Store in global vars\n",
    "    global x_proj_img, y_proj_img, x_corresp, y_corresp\n",
    "    x_proj_img = numpy.load(\"correspondences/x_proj_img.npy\")\n",
    "    y_proj_img = numpy.load(\"correspondences/y_proj_img.npy\")\n",
    "    x_corresp = numpy.load(\"correspondences/x_corresp.npy\")\n",
    "    y_corresp = numpy.load(\"correspondences/y_corresp.npy\")\n",
    "    \n",
    "class load_correspondences(widgets.Button):\n",
    "    output = widgets.Output()\n",
    "    \n",
    "    @output.capture()\n",
    "    def on_button_clicked(b):\n",
    "        clear_output()\n",
    "        load_from_file()\n",
    "        \n",
    "        # Show correspondences\n",
    "        print(\"x_corresp\"); plt.imshow(x_corresp); plt.show()\n",
    "        print(\"y_corresp\"); plt.imshow(y_corresp); plt.show()\n",
    "\n",
    "class save_correspondences(widgets.Button):\n",
    "    output = widgets.Output()\n",
    "    \n",
    "    @output.capture()\n",
    "    def on_button_clicked(b):\n",
    "        # Save correspondence and projector code arrays to file\n",
    "        global x_proj_img, y_proj_img, x_corresp, y_corresp\n",
    "        numpy.save(\"correspondences/x_proj_img\", x_proj_img)\n",
    "        numpy.save(\"correspondences/y_proj_img\", y_proj_img)\n",
    "        numpy.save(\"correspondences/x_corresp\", x_corresp)\n",
    "        numpy.save(\"correspondences/y_corresp\", y_corresp)\n",
    "        print(\"saved\")\n",
    "        \n",
    "class new_correspondences(widgets.Button):\n",
    "    output = widgets.Output()\n",
    "        \n",
    "    @output.capture()\n",
    "    def on_button_clicked(b):\n",
    "        clear_output();        \n",
    "        print(\"capturing new...\")\n",
    "        \n",
    "        # get new corresp\n",
    "        global x_corresp, x_proj_img, y_corresp, y_proj_img\n",
    "        x_corresp, x_proj_img, y_corresp, y_proj_img = get_correspondences()\n",
    "        print(\"done\")\n",
    "        \n",
    "        # show correspondences\n",
    "        print(\"x_corresp\"); plt.imshow(x_corresp); plt.show()\n",
    "        print(\"y_corresp\"); plt.imshow(y_corresp); plt.show()\n",
    "\n",
    "        # offer choice to save\n",
    "        global button4\n",
    "        display(button4)\n",
    "        display(save_correspondences.output)\n",
    "        \n",
    "print(\"Capture new correspondences or load from file\")\n",
    "button3 = new_correspondences(description=\"Capture new\")\n",
    "button3.on_click(new_correspondences.on_button_clicked)\n",
    "\n",
    "button4 = save_correspondences(description=\"Save to file\")\n",
    "button4.on_click(save_correspondences.on_button_clicked)\n",
    "\n",
    "button5 = load_correspondences(description=\"Load from file\")\n",
    "button5.on_click(load_correspondences.on_button_clicked)\n",
    "\n",
    "display(button3)\n",
    "display(new_correspondences.output)\n",
    "\n",
    "display(button5)\n",
    "display(load_correspondences.output)\n",
    "\n",
    "# by default, load from file\n",
    "load_from_file()"
   ]
  },
  {
   "cell_type": "code",
   "execution_count": 8,
   "metadata": {},
   "outputs": [],
   "source": [
    "## Tools : Some functions I wrote as tools (mostly for debugging)\n",
    "\n",
    "# convert 200x320 (raw) camera image to 360x640 (no color) projector image\n",
    "def cam2proj(cam_img):\n",
    "    return [[cam_img[r/2][c/2] for c in range(640)] for r in range(360)]\n",
    "\n",
    "# visualize camera row/col in projector image, based on correspondence\n",
    "def visualize_cam2proj():\n",
    "    cw = 320\n",
    "    ch = 200\n",
    "    pw = 640\n",
    "    ph = 360\n",
    "    A1 = numpy.zeros((ch, cw))\n",
    "    A2 = numpy.zeros((ph, pw))\n",
    "\n",
    "    # get a line in cam img\n",
    "    for i in range(cw):\n",
    "        A1[100][i] = 1\n",
    "    print(\"cam pts\")\n",
    "    plt.imshow(A1);plt.show()\n",
    "\n",
    "    # find line in proj img\n",
    "    for i in range(cw):\n",
    "        c = x_corresp[100][i]\n",
    "        r = y_corresp[100][i] \n",
    "        A2[r][c] = 1\n",
    "        A2[r+1][c] = 1\n",
    "        A2[r][c+1] = 1\n",
    "        A2[r+1][c+1] = 1\n",
    "    print(\"proj pts\")\n",
    "    plt.imshow(A2);plt.show()\n",
    "    \n",
    "# compute b - a, for two images\n",
    "def bit_diff(b, a):\n",
    "    if (a.shape != b.shape):\n",
    "        print(str(a.shape) + \" doesn't match \" + str(b.shape))\n",
    "        return None\n",
    "    return numpy.bitwise_and(b, numpy.invert(a))"
   ]
  },
  {
   "cell_type": "code",
   "execution_count": 14,
   "metadata": {},
   "outputs": [
    {
     "name": "stdout",
     "output_type": "stream",
     "text": [
      "made color and raw transformation matrices\n"
     ]
    }
   ],
   "source": [
    "## (1) Make transformation matrix from 4 points in camera image plane and corresponding points in projector image plane\n",
    "\n",
    "# Get 4 corners of a rectangle in camera image and corresponding pixel indices in projector image\n",
    "def get_4_points():\n",
    "    # 4 points in cam img (rect), may need to adjust manually\n",
    "    cam_pts = numpy.array([[100,120], [100,80], [200,120], [200,80]])\n",
    "\n",
    "    # Get 4 correspondig points in proj img\n",
    "    proj_pts = numpy.zeros((4,2))\n",
    "    for i in range(4):\n",
    "        x = cam_pts[i,0]\n",
    "        y = cam_pts[i,1]\n",
    "        proj_pts[i,0] = x_corresp[y][x]\n",
    "        proj_pts[i,1] = y_corresp[y][x]\n",
    "    proj_pts = proj_pts.astype(int)\n",
    "    \n",
    "    # uncomment below to display visualization of corresponding points\n",
    "#     A1 = numpy.zeros((200,320))\n",
    "#     A2 = numpy.zeros((200,320))\n",
    "#     for i in range(4):\n",
    "#         A1[cam_pts[i,1]][cam_pts[i,0]] = 1\n",
    "#         A2[proj_pts[i,1]/2][proj_pts[i,0]/2] = 1\n",
    "#     print(\"cam pts\")\n",
    "#     plt.imshow(A1);plt.show()\n",
    "#     print(\"proj pts\")\n",
    "#     plt.imshow(A2);plt.show()\n",
    "    \n",
    "    return cam_pts, proj_pts\n",
    "\n",
    "# Create transformation matrix from camera to projector (planes), using 4 corresponding points\n",
    "# from meach image plane\n",
    "def make_transform_matrix():\n",
    "        # get 4 points in camera image and corresponding points in projector image\n",
    "        cam_pts, proj_pts = get_4_points()\n",
    "\n",
    "        # getPerspectiveTransform and findHomography require float32 \n",
    "        cam_pts = cam_pts.astype(numpy.float32)\n",
    "        proj_pts = proj_pts.astype(numpy.float32)\n",
    "\n",
    "        # get transformation matrix (camera image plane -> projector image plane)\n",
    "        # (note) cv.findHomography can be used as well\n",
    "        M = cv.getPerspectiveTransform(cam_pts, proj_pts)    \n",
    "        \n",
    "        return M\n",
    "\n",
    "# Gets different transformation matrix from camera to projector since\n",
    "# encoding color info changes dimensions (1 raw image encodes 4 color channel images)\n",
    "def make_transform_matrix_c():\n",
    "        # Get 4 points in camera image and corresponding points in projector image\n",
    "        cam_pts, proj_pts = get_4_points()\n",
    "\n",
    "        # GetPerspectiveTransform and findHomography require float32 \n",
    "        cam_pts = cam_pts.astype(numpy.float32)\n",
    "        proj_pts = proj_pts.astype(numpy.float32)\n",
    "        \n",
    "        # Scale cam_pts down to match shape of color channel images\n",
    "        cam_pts = cam_pts / 2\n",
    "\n",
    "        # Get transformation matrix (camera image plane -> projector image plane)\n",
    "        M = cv.getPerspectiveTransform(cam_pts, proj_pts)    \n",
    "        \n",
    "        return M\n",
    "    \n",
    "# Wrapper function for raw image transform\n",
    "def transform_image(image, M):\n",
    "    return cv.warpPerspective(image, M, (640,360))\n",
    "\n",
    "# Wrapper function for color image transform\n",
    "def transform_image_c(raw_image, M_c):\n",
    "    red_image   = raw_image[1::2,1::2]\n",
    "    green_image = (raw_image[1::2,0::2] + raw_image[0::2,1::2]) / 2.0\n",
    "    blue_image  = raw_image[0::2,0::2]\n",
    "    \n",
    "    red_warped = transform_image(red_image,M_c)\n",
    "    green_warped = transform_image(green_image,M_c)\n",
    "    blue_warped = transform_image(blue_image,M_c)\n",
    "        \n",
    "    color_warped = numpy.dstack((red_warped, green_warped, blue_warped))\n",
    "\n",
    "    return color_warped\n",
    "\n",
    "# make transformation matrices\n",
    "M = make_transform_matrix()\n",
    "M_c = make_transform_matrix_c()\n",
    "print(\"made color and raw transformation matrices\")"
   ]
  },
  {
   "cell_type": "code",
   "execution_count": 10,
   "metadata": {},
   "outputs": [
    {
     "name": "stdout",
     "output_type": "stream",
     "text": [
      "Project raw camera image back onto scene:\n"
     ]
    },
    {
     "data": {
      "application/vnd.jupyter.widget-view+json": {
       "model_id": "59c0daa3489641329e30dfd4c50c092d",
       "version_major": 2,
       "version_minor": 0
      },
      "text/plain": [
       "project_button(description=u'Start', style=ButtonStyle())"
      ]
     },
     "metadata": {},
     "output_type": "display_data"
    },
    {
     "data": {
      "application/vnd.jupyter.widget-view+json": {
       "model_id": "73db0b9b43ff486c97a94b9f429761d9",
       "version_major": 2,
       "version_minor": 0
      },
      "text/plain": [
       "Output()"
      ]
     },
     "metadata": {},
     "output_type": "display_data"
    }
   ],
   "source": [
    "# Project from raw image\n",
    "def project_from_raw():\n",
    "    M = make_transform_matrix() # M can be reused\n",
    "\n",
    "    # get an image\n",
    "    lightcrafter.set_pattern(50 * numpy.uint16(numpy.ones((360,640))))    \n",
    "    raw_image = get_raw_image()\n",
    "\n",
    "    # apply transformation\n",
    "    warped = transform_image(raw_image, M)\n",
    "\n",
    "    # project\n",
    "    lightcrafter.set_pattern(warped);\n",
    "\n",
    "    # debug\n",
    "    print(\"raw\"); plt.imshow(raw_image); plt.show()\n",
    "    print(\"image transformed with matrix\"); plt.imshow(warped); plt.show();\n",
    "    print(\"results from camera\"); raw2 = get_raw_image(); plt.imshow(raw2/2);plt.show() #scaling for less contrast\n",
    "    \n",
    "# From button setup template\n",
    "class project_button(widgets.Button):\n",
    "    output = widgets.Output()\n",
    "    @output.capture()\n",
    "    def on_project_raw(b):\n",
    "        clear_output()\n",
    "        project_from_raw()\n",
    "print(\"Project raw camera image back onto scene:\")\n",
    "button_raw = project_button(description=\"Start (raw)\")\n",
    "button_raw.on_click(project_button.on_project_raw)\n",
    "display(button_raw)\n",
    "display(project_button.output)"
   ]
  },
  {
   "cell_type": "code",
   "execution_count": 13,
   "metadata": {},
   "outputs": [
    {
     "name": "stdout",
     "output_type": "stream",
     "text": [
      "Project color camera image back onto scene:\n"
     ]
    },
    {
     "data": {
      "application/vnd.jupyter.widget-view+json": {
       "model_id": "1294c05a833448688d68cc5dbe3a32d8",
       "version_major": 2,
       "version_minor": 0
      },
      "text/plain": [
       "project_c_button(description=u'Start (color)', style=ButtonStyle())"
      ]
     },
     "metadata": {},
     "output_type": "display_data"
    },
    {
     "data": {
      "application/vnd.jupyter.widget-view+json": {
       "model_id": "7051a4aadbfe406999e2882198879376",
       "version_major": 2,
       "version_minor": 0
      },
      "text/plain": [
       "Output()"
      ]
     },
     "metadata": {},
     "output_type": "display_data"
    }
   ],
   "source": [
    "# Project from color image\n",
    "def project_from_color():\n",
    "    M_c = make_transform_matrix_c()\n",
    "\n",
    "    # get an image\n",
    "    lightcrafter.set_pattern(70 * numpy.uint16(numpy.ones((360,640))))   \n",
    "    time.sleep(1)\n",
    "    raw_image = get_raw_image()\n",
    "    color_image = get_color_image() # for debug purposes\n",
    "\n",
    "    # apply transformation (with color)\n",
    "    color_warped = transform_image_c(raw_image*0.5, M_c) # scaled down to prevent overflow\n",
    "\n",
    "    # project (with color)\n",
    "    lightcrafter.set_pattern_c(color_warped);\n",
    "\n",
    "    # debug\n",
    "    print(\"color camera image\"); plt.imshow(color_image); plt.show()\n",
    "    print(\"image transformed with matrix\"); plt.imshow(color_warped/255); plt.show();\n",
    "    print(\"results\"); plt.imshow(get_raw_image()/2);plt.show() #scaling for less contrast\n",
    "    plt.imshow(get_color_image());plt.show() #scaling for less contrast\n",
    "    \n",
    "# From button setup template\n",
    "class project_c_button(widgets.Button):\n",
    "    output = widgets.Output()\n",
    "    @output.capture()\n",
    "    def on_project_color(b):\n",
    "        clear_output()\n",
    "        project_from_color()\n",
    "print(\"Project color camera image back onto scene:\")\n",
    "button_c = project_c_button(description=\"Start (color)\")\n",
    "button_c.on_click(project_c_button.on_project_color)\n",
    "display(button_c)\n",
    "display(project_c_button.output)"
   ]
  },
  {
   "cell_type": "code",
   "execution_count": 12,
   "metadata": {},
   "outputs": [],
   "source": [
    "# Unsuccessful attempt to get corresponding pixel by matching correspondences for rows and columns (too slow)\n",
    "# Provides intersting visualization though?\n",
    "col_corresp_ind2 = numpy.array([x_corresp[i/320][i%320] for i in range(200*320)])\n",
    "row_corresp_ind2 = numpy.array([y_corresp[i/320][i%320] for i in range(200*320)])\n",
    "\n",
    "# find entry in corresp_ind that has value x\n",
    "def match2(val, corresp_ind):\n",
    "    # create masks to extract pixels w values within 2 of v\n",
    "    eq = numpy.full(200*320, val)\n",
    "    lt1 = numpy.full(200*320, val-1)\n",
    "    gt1 = numpy.full(200*320, val+1)\n",
    "    lt2 = numpy.full(200*320, val-2)\n",
    "    gt2 = numpy.full(200*320, val+2)\n",
    "    masks = [eq, lt1, gt1, lt2, gt2]\n",
    "\n",
    "    # extract and accumulate matching values\n",
    "    m = numpy.full(200*320, 0)\n",
    "    for ba in masks:\n",
    "        ba = numpy.where(numpy.bitwise_xor(corresp_ind,ba) == 0, 1, 0)\n",
    "        m = numpy.bitwise_or(m, ba)\n",
    "    return m\n",
    "\n",
    "# get pixel that matches values for x and y correspondences\n",
    "def match_both2(vx, vy):\n",
    "    m = numpy.bitwise_and(match2(vy, row_corresp_ind2), match2(vx, col_corresp_ind2))\n",
    "    return numpy.extract(m, raw_image)\n",
    "\n",
    "# for camera pixels r and c, get corresponding projector pixels\n",
    "def one_pixel(r,c):\n",
    "    i = r*320 + c\n",
    "    vx = x_proj_img[r*2][c*2]\n",
    "    vy = y_proj_img[r*2][c*2]\n",
    "    print(\"get pixel value for row=\" + str(r) + \", col=\" + str(c))\n",
    "    print(\"correspondence values to match: row=\" + str(vy) + \", col=\" + str(vx))\n",
    "\n",
    "    start = time.time()\n",
    "    # get each line of matching pixels\n",
    "    a=match2(vy, row_corresp_ind2)\n",
    "    b=match2(vx, col_corresp_ind2)\n",
    "    # find intersection\n",
    "    m = numpy.bitwise_and(a,b)\n",
    "    # get value from raw image\n",
    "    z = numpy.extract(m, raw_image)\n",
    "    end = time.time();print(\"t=\" + str(end-start))\n",
    "    print(\"m=\" + str(numpy.where(m==1)))\n",
    "    print(\"z=\" + str(z))\n",
    "\n",
    "    # Display row match, column match, and pixel match\n",
    "    plt.imshow(numpy.reshape(a,(200,320)));plt.show()\n",
    "    plt.imshow(numpy.reshape(b,(200,320)));plt.show()\n",
    "    plt.imshow(numpy.reshape(m,(200,320)));plt.show()\n",
    "    return numpy.reshape(m,(200,320))\n",
    "\n",
    "# one_pixel(100,100)"
   ]
  }
 ],
 "metadata": {
  "kernelspec": {
   "display_name": "Python 2",
   "language": "python",
   "name": "python2"
  },
  "language_info": {
   "codemirror_mode": {
    "name": "ipython",
    "version": 2
   },
   "file_extension": ".py",
   "mimetype": "text/x-python",
   "name": "python",
   "nbconvert_exporter": "python",
   "pygments_lexer": "ipython2",
   "version": "2.7.13"
  }
 },
 "nbformat": 4,
 "nbformat_minor": 2
}
